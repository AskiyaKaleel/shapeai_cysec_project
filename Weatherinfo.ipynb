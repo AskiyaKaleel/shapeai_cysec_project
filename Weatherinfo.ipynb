{
  "nbformat": 4,
  "nbformat_minor": 0,
  "metadata": {
    "colab": {
      "name": "Weatherinfo.ipynb",
      "provenance": [],
      "authorship_tag": "ABX9TyP8ug/CVWW+3BezN3AYufYS",
      "include_colab_link": true
    },
    "kernelspec": {
      "name": "python3",
      "display_name": "Python 3"
    },
    "language_info": {
      "name": "python"
    }
  },
  "cells": [
    {
      "cell_type": "markdown",
      "metadata": {
        "id": "view-in-github",
        "colab_type": "text"
      },
      "source": [
        "<a href=\"https://colab.research.google.com/github/AskiyaKaleel/shapeai_cysec_project/blob/main/Weatherinfo.ipynb\" target=\"_parent\"><img src=\"https://colab.research.google.com/assets/colab-badge.svg\" alt=\"Open In Colab\"/></a>"
      ]
    },
    {
      "cell_type": "code",
      "metadata": {
        "colab": {
          "base_uri": "https://localhost:8080/"
        },
        "id": "SArJLao3Icpp",
        "outputId": "ca4ca713-06ce-41f0-f0df-de0bf19a30c5"
      },
      "source": [
        " import requests\n",
        " \n",
        "#import os\n",
        " \n",
        "from datetime import datetime \n",
        " \n",
        "api_key = '3ba0d96fb5eded950438341f86ef69f0'\n",
        " \n",
        "location = input(\"Enter the city name: \") \n",
        " \n",
        " \n",
        " \n",
        "complete_api_link = \"https://api.openweathermap.org/data/2.5/weather?q=\"+location+\"&appid=\"+api_key\n",
        " \n",
        "api_link = requests.get(complete_api_link)\n",
        " \n",
        "api_data = api_link.json() \n",
        " \n",
        " \n",
        " \n",
        "temp_city = ((api_data['main']['temp']) - 273.15)\n",
        " \n",
        "weather_desc = api_data['weather'][0]['description']\n",
        " \n",
        "hmdt = api_data['main']['humidity']\n",
        " \n",
        "wind_spd = api_data['wind']['speed']\n",
        " \n",
        "date_time = datetime.now().strftime(\"%d %b %Y | %I:%M:%S %p\")\n",
        " \n",
        " \n",
        " \n",
        "print (\"-------------------------------------------------------------\")\n",
        " \n",
        " \n",
        " \n",
        "print (\"Weather Stats for - {} || {}\".format(location.upper(), date_time))\n",
        " \n",
        " \n",
        " \n",
        "print (\"-------------------------------------------------------------\") \n",
        " \n",
        " \n",
        " \n",
        "print (\"Current temperature is: {:.2f} deg C\".format(temp_city))\n",
        " \n",
        "print (\"Current weather desc :\",weather_desc)\n",
        " \n",
        "print (\"Current Humidity :\",hmdt, '%')\n",
        " \n",
        "print (\"Current wind speed :\",wind_spd ,'kmph')\n",
        " \n",
        "file1= open(\"data.txt\", \"a\")\n",
        " \n",
        "file1.close()"
      ],
      "execution_count": 1,
      "outputs": [
        {
          "output_type": "stream",
          "text": [
            "Enter the city name: Kandy\n",
            "-------------------------------------------------------------\n",
            "Weather Stats for - KANDY || 22 Jun 2021 | 03:15:53 PM\n",
            "-------------------------------------------------------------\n",
            "Current temperature is: 21.92 deg C\n",
            "Current weather desc : overcast clouds\n",
            "Current Humidity : 93 %\n",
            "Current wind speed : 1.37 kmph\n"
          ],
          "name": "stdout"
        }
      ]
    }
  ]
}